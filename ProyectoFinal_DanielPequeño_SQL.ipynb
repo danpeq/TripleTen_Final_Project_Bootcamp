{
 "cells": [
  {
   "cell_type": "markdown",
   "id": "40f7ea70",
   "metadata": {},
   "source": [
    "## Descripción del proyecto"
   ]
  },
  {
   "cell_type": "markdown",
   "id": "eb6c74ee",
   "metadata": {},
   "source": [
    "El coronavirus tomó al mundo entero por sorpresa, cambiando la rutina diaria de todos y todas. Los habitantes de las ciudades ya no pasaban su tiempo libre fuera, yendo a cafés y centros comerciales; sino que más gente se quedaba en casa, leyendo libros. Eso atrajo la atención de las startups (empresas emergentes) que se apresuraron a desarrollar nuevas aplicaciones para los amantes de los libros.\n",
    "\n",
    "Te han dado una base de datos de uno de los servicios que compiten en este mercado. Contiene datos sobre libros, editoriales, autores y calificaciones de clientes y reseñas de libros. Esta información se utilizará para generar una propuesta de valor para un nuevo producto."
   ]
  },
  {
   "cell_type": "code",
   "execution_count": 8,
   "id": "9f8b0c00",
   "metadata": {},
   "outputs": [],
   "source": [
    "#CODIGO PARA CONEXION A BASE DE DATOS:\n",
    "\n",
    "# importar librerías\n",
    "import pandas as pd\n",
    "from sqlalchemy import create_engine\n",
    "\n",
    "\n",
    "db_config = {'user': 'practicum_student',         # nombre de usuario\n",
    "             'pwd': 's65BlTKV3faNIGhmvJVzOqhs', # contraseña\n",
    "             'host': 'rc1b-wcoijxj3yxfsf3fs.mdb.yandexcloud.net',\n",
    "             'port': 6432,              # puerto de conexión\n",
    "             'db': 'data-analyst-final-project-db'}          # nombre de la base de datos\n",
    "\n",
    "connection_string = 'postgresql://{}:{}@{}:{}/{}'.format(db_config['user'],\n",
    "                                                                     db_config['pwd'],\n",
    "                                                                       db_config['host'],\n",
    "                                                                       db_config['port'],\n",
    "                                                                       db_config['db'])\n",
    "\n",
    "engine = create_engine(connection_string, connect_args={'sslmode':'require'})"
   ]
  },
  {
   "cell_type": "markdown",
   "id": "b94aaddf",
   "metadata": {},
   "source": [
    "1. Revisamos los datos de las tablas:"
   ]
  },
  {
   "cell_type": "code",
   "execution_count": 9,
   "id": "7e832185",
   "metadata": {
    "scrolled": false
   },
   "outputs": [
    {
     "data": {
      "text/html": [
       "<div>\n",
       "<style scoped>\n",
       "    .dataframe tbody tr th:only-of-type {\n",
       "        vertical-align: middle;\n",
       "    }\n",
       "\n",
       "    .dataframe tbody tr th {\n",
       "        vertical-align: top;\n",
       "    }\n",
       "\n",
       "    .dataframe thead th {\n",
       "        text-align: right;\n",
       "    }\n",
       "</style>\n",
       "<table border=\"1\" class=\"dataframe\">\n",
       "  <thead>\n",
       "    <tr style=\"text-align: right;\">\n",
       "      <th></th>\n",
       "      <th>book_id</th>\n",
       "      <th>author_id</th>\n",
       "      <th>title</th>\n",
       "      <th>num_pages</th>\n",
       "      <th>publication_date</th>\n",
       "      <th>publisher_id</th>\n",
       "    </tr>\n",
       "  </thead>\n",
       "  <tbody>\n",
       "    <tr>\n",
       "      <th>0</th>\n",
       "      <td>1</td>\n",
       "      <td>546</td>\n",
       "      <td>'Salem's Lot</td>\n",
       "      <td>594</td>\n",
       "      <td>2005-11-01</td>\n",
       "      <td>93</td>\n",
       "    </tr>\n",
       "    <tr>\n",
       "      <th>1</th>\n",
       "      <td>2</td>\n",
       "      <td>465</td>\n",
       "      <td>1 000 Places to See Before You Die</td>\n",
       "      <td>992</td>\n",
       "      <td>2003-05-22</td>\n",
       "      <td>336</td>\n",
       "    </tr>\n",
       "    <tr>\n",
       "      <th>2</th>\n",
       "      <td>3</td>\n",
       "      <td>407</td>\n",
       "      <td>13 Little Blue Envelopes (Little Blue Envelope...</td>\n",
       "      <td>322</td>\n",
       "      <td>2010-12-21</td>\n",
       "      <td>135</td>\n",
       "    </tr>\n",
       "    <tr>\n",
       "      <th>3</th>\n",
       "      <td>4</td>\n",
       "      <td>82</td>\n",
       "      <td>1491: New Revelations of the Americas Before C...</td>\n",
       "      <td>541</td>\n",
       "      <td>2006-10-10</td>\n",
       "      <td>309</td>\n",
       "    </tr>\n",
       "    <tr>\n",
       "      <th>4</th>\n",
       "      <td>5</td>\n",
       "      <td>125</td>\n",
       "      <td>1776</td>\n",
       "      <td>386</td>\n",
       "      <td>2006-07-04</td>\n",
       "      <td>268</td>\n",
       "    </tr>\n",
       "    <tr>\n",
       "      <th>...</th>\n",
       "      <td>...</td>\n",
       "      <td>...</td>\n",
       "      <td>...</td>\n",
       "      <td>...</td>\n",
       "      <td>...</td>\n",
       "      <td>...</td>\n",
       "    </tr>\n",
       "    <tr>\n",
       "      <th>995</th>\n",
       "      <td>996</td>\n",
       "      <td>571</td>\n",
       "      <td>Wyrd Sisters (Discworld  #6; Witches #2)</td>\n",
       "      <td>265</td>\n",
       "      <td>2001-02-06</td>\n",
       "      <td>147</td>\n",
       "    </tr>\n",
       "    <tr>\n",
       "      <th>996</th>\n",
       "      <td>997</td>\n",
       "      <td>454</td>\n",
       "      <td>Xenocide (Ender's Saga  #3)</td>\n",
       "      <td>592</td>\n",
       "      <td>1996-07-15</td>\n",
       "      <td>297</td>\n",
       "    </tr>\n",
       "    <tr>\n",
       "      <th>997</th>\n",
       "      <td>998</td>\n",
       "      <td>201</td>\n",
       "      <td>Year of Wonders</td>\n",
       "      <td>358</td>\n",
       "      <td>2002-04-30</td>\n",
       "      <td>212</td>\n",
       "    </tr>\n",
       "    <tr>\n",
       "      <th>998</th>\n",
       "      <td>999</td>\n",
       "      <td>94</td>\n",
       "      <td>You Suck (A Love Story  #2)</td>\n",
       "      <td>328</td>\n",
       "      <td>2007-01-16</td>\n",
       "      <td>331</td>\n",
       "    </tr>\n",
       "    <tr>\n",
       "      <th>999</th>\n",
       "      <td>1000</td>\n",
       "      <td>509</td>\n",
       "      <td>Zen and the Art of Motorcycle Maintenance: An ...</td>\n",
       "      <td>540</td>\n",
       "      <td>2006-04-25</td>\n",
       "      <td>143</td>\n",
       "    </tr>\n",
       "  </tbody>\n",
       "</table>\n",
       "<p>1000 rows × 6 columns</p>\n",
       "</div>"
      ],
      "text/plain": [
       "     book_id  author_id                                              title  \\\n",
       "0          1        546                                       'Salem's Lot   \n",
       "1          2        465                 1 000 Places to See Before You Die   \n",
       "2          3        407  13 Little Blue Envelopes (Little Blue Envelope...   \n",
       "3          4         82  1491: New Revelations of the Americas Before C...   \n",
       "4          5        125                                               1776   \n",
       "..       ...        ...                                                ...   \n",
       "995      996        571           Wyrd Sisters (Discworld  #6; Witches #2)   \n",
       "996      997        454                        Xenocide (Ender's Saga  #3)   \n",
       "997      998        201                                    Year of Wonders   \n",
       "998      999         94                        You Suck (A Love Story  #2)   \n",
       "999     1000        509  Zen and the Art of Motorcycle Maintenance: An ...   \n",
       "\n",
       "     num_pages publication_date  publisher_id  \n",
       "0          594       2005-11-01            93  \n",
       "1          992       2003-05-22           336  \n",
       "2          322       2010-12-21           135  \n",
       "3          541       2006-10-10           309  \n",
       "4          386       2006-07-04           268  \n",
       "..         ...              ...           ...  \n",
       "995        265       2001-02-06           147  \n",
       "996        592       1996-07-15           297  \n",
       "997        358       2002-04-30           212  \n",
       "998        328       2007-01-16           331  \n",
       "999        540       2006-04-25           143  \n",
       "\n",
       "[1000 rows x 6 columns]"
      ]
     },
     "execution_count": 9,
     "metadata": {},
     "output_type": "execute_result"
    }
   ],
   "source": [
    "pd.io.sql.read_sql(query, con = engine)"
   ]
  },
  {
   "cell_type": "code",
   "execution_count": 19,
   "id": "c80cc678",
   "metadata": {
    "scrolled": true
   },
   "outputs": [
    {
     "data": {
      "text/html": [
       "<div>\n",
       "<style scoped>\n",
       "    .dataframe tbody tr th:only-of-type {\n",
       "        vertical-align: middle;\n",
       "    }\n",
       "\n",
       "    .dataframe tbody tr th {\n",
       "        vertical-align: top;\n",
       "    }\n",
       "\n",
       "    .dataframe thead th {\n",
       "        text-align: right;\n",
       "    }\n",
       "</style>\n",
       "<table border=\"1\" class=\"dataframe\">\n",
       "  <thead>\n",
       "    <tr style=\"text-align: right;\">\n",
       "      <th></th>\n",
       "      <th>author_id</th>\n",
       "      <th>author</th>\n",
       "    </tr>\n",
       "  </thead>\n",
       "  <tbody>\n",
       "    <tr>\n",
       "      <th>0</th>\n",
       "      <td>1</td>\n",
       "      <td>A.S. Byatt</td>\n",
       "    </tr>\n",
       "    <tr>\n",
       "      <th>1</th>\n",
       "      <td>2</td>\n",
       "      <td>Aesop/Laura Harris/Laura Gibbs</td>\n",
       "    </tr>\n",
       "    <tr>\n",
       "      <th>2</th>\n",
       "      <td>3</td>\n",
       "      <td>Agatha Christie</td>\n",
       "    </tr>\n",
       "    <tr>\n",
       "      <th>3</th>\n",
       "      <td>4</td>\n",
       "      <td>Alan Brennert</td>\n",
       "    </tr>\n",
       "    <tr>\n",
       "      <th>4</th>\n",
       "      <td>5</td>\n",
       "      <td>Alan Moore/David   Lloyd</td>\n",
       "    </tr>\n",
       "  </tbody>\n",
       "</table>\n",
       "</div>"
      ],
      "text/plain": [
       "   author_id                          author\n",
       "0          1                      A.S. Byatt\n",
       "1          2  Aesop/Laura Harris/Laura Gibbs\n",
       "2          3                 Agatha Christie\n",
       "3          4                   Alan Brennert\n",
       "4          5        Alan Moore/David   Lloyd"
      ]
     },
     "execution_count": 19,
     "metadata": {},
     "output_type": "execute_result"
    }
   ],
   "source": [
    "query = \"SELECT * FROM authors\"\n",
    "authors_df = pd.io.sql.read_sql(query, con=engine)\n",
    "authors_df.head()"
   ]
  },
  {
   "cell_type": "code",
   "execution_count": 20,
   "id": "e96cd9f6",
   "metadata": {},
   "outputs": [
    {
     "data": {
      "text/html": [
       "<div>\n",
       "<style scoped>\n",
       "    .dataframe tbody tr th:only-of-type {\n",
       "        vertical-align: middle;\n",
       "    }\n",
       "\n",
       "    .dataframe tbody tr th {\n",
       "        vertical-align: top;\n",
       "    }\n",
       "\n",
       "    .dataframe thead th {\n",
       "        text-align: right;\n",
       "    }\n",
       "</style>\n",
       "<table border=\"1\" class=\"dataframe\">\n",
       "  <thead>\n",
       "    <tr style=\"text-align: right;\">\n",
       "      <th></th>\n",
       "      <th>publisher_id</th>\n",
       "      <th>publisher</th>\n",
       "    </tr>\n",
       "  </thead>\n",
       "  <tbody>\n",
       "    <tr>\n",
       "      <th>0</th>\n",
       "      <td>1</td>\n",
       "      <td>Ace</td>\n",
       "    </tr>\n",
       "    <tr>\n",
       "      <th>1</th>\n",
       "      <td>2</td>\n",
       "      <td>Ace Book</td>\n",
       "    </tr>\n",
       "    <tr>\n",
       "      <th>2</th>\n",
       "      <td>3</td>\n",
       "      <td>Ace Books</td>\n",
       "    </tr>\n",
       "    <tr>\n",
       "      <th>3</th>\n",
       "      <td>4</td>\n",
       "      <td>Ace Hardcover</td>\n",
       "    </tr>\n",
       "    <tr>\n",
       "      <th>4</th>\n",
       "      <td>5</td>\n",
       "      <td>Addison Wesley Publishing Company</td>\n",
       "    </tr>\n",
       "  </tbody>\n",
       "</table>\n",
       "</div>"
      ],
      "text/plain": [
       "   publisher_id                          publisher\n",
       "0             1                                Ace\n",
       "1             2                           Ace Book\n",
       "2             3                          Ace Books\n",
       "3             4                      Ace Hardcover\n",
       "4             5  Addison Wesley Publishing Company"
      ]
     },
     "execution_count": 20,
     "metadata": {},
     "output_type": "execute_result"
    }
   ],
   "source": [
    "query = \"SELECT * FROM publishers\"\n",
    "publishers_df = pd.io.sql.read_sql(query, con=engine)\n",
    "publishers_df.head()"
   ]
  },
  {
   "cell_type": "code",
   "execution_count": 21,
   "id": "65673ab7",
   "metadata": {},
   "outputs": [
    {
     "data": {
      "text/html": [
       "<div>\n",
       "<style scoped>\n",
       "    .dataframe tbody tr th:only-of-type {\n",
       "        vertical-align: middle;\n",
       "    }\n",
       "\n",
       "    .dataframe tbody tr th {\n",
       "        vertical-align: top;\n",
       "    }\n",
       "\n",
       "    .dataframe thead th {\n",
       "        text-align: right;\n",
       "    }\n",
       "</style>\n",
       "<table border=\"1\" class=\"dataframe\">\n",
       "  <thead>\n",
       "    <tr style=\"text-align: right;\">\n",
       "      <th></th>\n",
       "      <th>rating_id</th>\n",
       "      <th>book_id</th>\n",
       "      <th>username</th>\n",
       "      <th>rating</th>\n",
       "    </tr>\n",
       "  </thead>\n",
       "  <tbody>\n",
       "    <tr>\n",
       "      <th>0</th>\n",
       "      <td>1</td>\n",
       "      <td>1</td>\n",
       "      <td>ryanfranco</td>\n",
       "      <td>4</td>\n",
       "    </tr>\n",
       "    <tr>\n",
       "      <th>1</th>\n",
       "      <td>2</td>\n",
       "      <td>1</td>\n",
       "      <td>grantpatricia</td>\n",
       "      <td>2</td>\n",
       "    </tr>\n",
       "    <tr>\n",
       "      <th>2</th>\n",
       "      <td>3</td>\n",
       "      <td>1</td>\n",
       "      <td>brandtandrea</td>\n",
       "      <td>5</td>\n",
       "    </tr>\n",
       "    <tr>\n",
       "      <th>3</th>\n",
       "      <td>4</td>\n",
       "      <td>2</td>\n",
       "      <td>lorichen</td>\n",
       "      <td>3</td>\n",
       "    </tr>\n",
       "    <tr>\n",
       "      <th>4</th>\n",
       "      <td>5</td>\n",
       "      <td>2</td>\n",
       "      <td>mariokeller</td>\n",
       "      <td>2</td>\n",
       "    </tr>\n",
       "  </tbody>\n",
       "</table>\n",
       "</div>"
      ],
      "text/plain": [
       "   rating_id  book_id       username  rating\n",
       "0          1        1     ryanfranco       4\n",
       "1          2        1  grantpatricia       2\n",
       "2          3        1   brandtandrea       5\n",
       "3          4        2       lorichen       3\n",
       "4          5        2    mariokeller       2"
      ]
     },
     "execution_count": 21,
     "metadata": {},
     "output_type": "execute_result"
    }
   ],
   "source": [
    "query = \"SELECT * FROM ratings\"\n",
    "ratings_df = pd.io.sql.read_sql(query, con=engine)\n",
    "ratings_df.head()"
   ]
  },
  {
   "cell_type": "code",
   "execution_count": 22,
   "id": "e1264f7e",
   "metadata": {},
   "outputs": [
    {
     "data": {
      "text/html": [
       "<div>\n",
       "<style scoped>\n",
       "    .dataframe tbody tr th:only-of-type {\n",
       "        vertical-align: middle;\n",
       "    }\n",
       "\n",
       "    .dataframe tbody tr th {\n",
       "        vertical-align: top;\n",
       "    }\n",
       "\n",
       "    .dataframe thead th {\n",
       "        text-align: right;\n",
       "    }\n",
       "</style>\n",
       "<table border=\"1\" class=\"dataframe\">\n",
       "  <thead>\n",
       "    <tr style=\"text-align: right;\">\n",
       "      <th></th>\n",
       "      <th>review_id</th>\n",
       "      <th>book_id</th>\n",
       "      <th>username</th>\n",
       "      <th>text</th>\n",
       "    </tr>\n",
       "  </thead>\n",
       "  <tbody>\n",
       "    <tr>\n",
       "      <th>0</th>\n",
       "      <td>1</td>\n",
       "      <td>1</td>\n",
       "      <td>brandtandrea</td>\n",
       "      <td>Mention society tell send professor analysis. ...</td>\n",
       "    </tr>\n",
       "    <tr>\n",
       "      <th>1</th>\n",
       "      <td>2</td>\n",
       "      <td>1</td>\n",
       "      <td>ryanfranco</td>\n",
       "      <td>Foot glass pretty audience hit themselves. Amo...</td>\n",
       "    </tr>\n",
       "    <tr>\n",
       "      <th>2</th>\n",
       "      <td>3</td>\n",
       "      <td>2</td>\n",
       "      <td>lorichen</td>\n",
       "      <td>Listen treat keep worry. Miss husband tax but ...</td>\n",
       "    </tr>\n",
       "    <tr>\n",
       "      <th>3</th>\n",
       "      <td>4</td>\n",
       "      <td>3</td>\n",
       "      <td>johnsonamanda</td>\n",
       "      <td>Finally month interesting blue could nature cu...</td>\n",
       "    </tr>\n",
       "    <tr>\n",
       "      <th>4</th>\n",
       "      <td>5</td>\n",
       "      <td>3</td>\n",
       "      <td>scotttamara</td>\n",
       "      <td>Nation purpose heavy give wait song will. List...</td>\n",
       "    </tr>\n",
       "  </tbody>\n",
       "</table>\n",
       "</div>"
      ],
      "text/plain": [
       "   review_id  book_id       username  \\\n",
       "0          1        1   brandtandrea   \n",
       "1          2        1     ryanfranco   \n",
       "2          3        2       lorichen   \n",
       "3          4        3  johnsonamanda   \n",
       "4          5        3    scotttamara   \n",
       "\n",
       "                                                text  \n",
       "0  Mention society tell send professor analysis. ...  \n",
       "1  Foot glass pretty audience hit themselves. Amo...  \n",
       "2  Listen treat keep worry. Miss husband tax but ...  \n",
       "3  Finally month interesting blue could nature cu...  \n",
       "4  Nation purpose heavy give wait song will. List...  "
      ]
     },
     "execution_count": 22,
     "metadata": {},
     "output_type": "execute_result"
    }
   ],
   "source": [
    "query = \"SELECT * FROM reviews\"\n",
    "reviews_df = pd.io.sql.read_sql(query, con=engine)\n",
    "reviews_df.head()"
   ]
  },
  {
   "cell_type": "markdown",
   "id": "22472994",
   "metadata": {},
   "source": [
    "1. Encuentra el número de libros publicados después del 1 de enero de 2000."
   ]
  },
  {
   "cell_type": "code",
   "execution_count": 32,
   "id": "eb2ac79d",
   "metadata": {},
   "outputs": [
    {
     "name": "stdout",
     "output_type": "stream",
     "text": [
      "   number_books\n",
      "0           819\n"
     ]
    }
   ],
   "source": [
    "query = \"\"\"\n",
    "SELECT COUNT(*) AS number_books\n",
    "FROM books\n",
    "WHERE publication_date > '2000-01-01'\n",
    "\"\"\"\n",
    "books_df = pd.io.sql.read_sql(query, con=engine)\n",
    "print(books_df)"
   ]
  },
  {
   "cell_type": "markdown",
   "id": "8230e4a1",
   "metadata": {},
   "source": [
    "El número de libros publicados después del 1 de enero de 2000 es de 819."
   ]
  },
  {
   "cell_type": "markdown",
   "id": "ece0d83d",
   "metadata": {},
   "source": [
    "2. Encuentra el número de reseñas de usuarios y la calificación promedio para cada libro."
   ]
  },
  {
   "cell_type": "code",
   "execution_count": 34,
   "id": "db17b317",
   "metadata": {
    "scrolled": true
   },
   "outputs": [
    {
     "name": "stdout",
     "output_type": "stream",
     "text": [
      "     book_id  num_of_reviews  avg_rating\n",
      "0        652               4    4.500000\n",
      "1        273               4    4.500000\n",
      "2         51              60    4.250000\n",
      "3        951               4    4.000000\n",
      "4        839              28    4.285714\n",
      "..       ...             ...         ...\n",
      "989       64              52    4.230769\n",
      "990       55               4    5.000000\n",
      "991      148              21    3.428571\n",
      "992      790               4    3.500000\n",
      "993      828               4    3.000000\n",
      "\n",
      "[994 rows x 3 columns]\n"
     ]
    }
   ],
   "source": [
    "query = \"\"\"\n",
    "SELECT \n",
    "    rvw.book_id, \n",
    "    COUNT(rvw.review_id) AS num_of_reviews, \n",
    "    AVG(rt.rating) AS avg_rating\n",
    "FROM reviews rvw\n",
    "JOIN ratings rt ON rvw.book_id = rt.book_id\n",
    "GROUP BY rvw.book_id\n",
    "\"\"\"\n",
    "reviews_with_ratings_df = pd.io.sql.read_sql(query, con=engine)\n",
    "print(reviews_with_ratings_df)"
   ]
  },
  {
   "cell_type": "markdown",
   "id": "269a7d65",
   "metadata": {},
   "source": [
    "La columna 'avg_rating' muestra la calificación promedio para cada libro y la columna 'num_of_reviews' muestra el número de reseñas para cada libro."
   ]
  },
  {
   "cell_type": "markdown",
   "id": "7e4cdd17",
   "metadata": {},
   "source": [
    "3. Identifica la editorial que ha publicado el mayor número de libros con más de 50 páginas (esto te ayudará a excluir folletos y publicaciones similares de tu análisis)."
   ]
  },
  {
   "cell_type": "code",
   "execution_count": 36,
   "id": "9b69d30a",
   "metadata": {
    "scrolled": true
   },
   "outputs": [
    {
     "name": "stdout",
     "output_type": "stream",
     "text": [
      "       publisher  num_of_books\n",
      "0  Penguin Books            42\n"
     ]
    }
   ],
   "source": [
    "query = \"\"\"\n",
    "SELECT\n",
    "    p.publisher,\n",
    "    COUNT(b.book_id) AS num_of_books\n",
    "FROM\n",
    "    books b\n",
    "JOIN\n",
    "    publishers p ON b.publisher_id = p.publisher_id\n",
    "WHERE\n",
    "    b.num_pages > 50\n",
    "GROUP BY\n",
    "    p.publisher\n",
    "ORDER BY\n",
    "    num_of_books DESC\n",
    "LIMIT 1\n",
    "\"\"\"\n",
    "books_with_publishers_df = pd.io.sql.read_sql(query, con=engine)\n",
    "print(books_with_publishers_df)"
   ]
  },
  {
   "cell_type": "markdown",
   "id": "ffa5946b",
   "metadata": {},
   "source": [
    "La editorial Penguin Books es la que ha publicado el mayor número de libros con más de 50 páginas, con un total de 42 libros."
   ]
  },
  {
   "cell_type": "markdown",
   "id": "7fb98819",
   "metadata": {},
   "source": [
    "4. Identifica al autor que tiene la más alta calificación promedio del libro: mira solo los libros con al menos 50 calificaciones."
   ]
  },
  {
   "cell_type": "code",
   "execution_count": 40,
   "id": "ecee0f25",
   "metadata": {
    "scrolled": true
   },
   "outputs": [
    {
     "name": "stdout",
     "output_type": "stream",
     "text": [
      "           author  avg_rating  number_of_ratings\n",
      "0  Diana Gabaldon         4.3                 50\n"
     ]
    }
   ],
   "source": [
    "query = \"\"\"\n",
    "SELECT\n",
    "    a.author,\n",
    "    AVG(rt.rating) AS avg_rating,\n",
    "    COUNT(rt.rating) AS number_of_ratings\n",
    "FROM\n",
    "    authors a\n",
    "JOIN\n",
    "    books b ON a.author_id = b.author_id\n",
    "JOIN\n",
    "    ratings rt ON b.book_id = rt.book_id\n",
    "GROUP BY\n",
    "    a.author\n",
    "HAVING\n",
    "    COUNT(rt.rating) >= 50\n",
    "ORDER BY \n",
    "    avg_rating DESC\n",
    "LIMIT 1\n",
    "\"\"\"\n",
    "author_with_books_with_ratings_df = pd.io.sql.read_sql(query, con=engine)\n",
    "print(author_with_books_with_ratings_df)"
   ]
  },
  {
   "cell_type": "markdown",
   "id": "2783c1e3",
   "metadata": {},
   "source": [
    "El autor que tiene la más alta calificación promedio del libro con al menos 50 calificaciones es Diana Gabaldon."
   ]
  },
  {
   "cell_type": "markdown",
   "id": "fe658174",
   "metadata": {},
   "source": [
    "5. Encuentra el número promedio de reseñas de texto entre los usuarios que calificaron más de 50 libros."
   ]
  },
  {
   "cell_type": "code",
   "execution_count": 44,
   "id": "60d4356a",
   "metadata": {
    "scrolled": false
   },
   "outputs": [
    {
     "name": "stdout",
     "output_type": "stream",
     "text": [
      "   avg_reviews_per_user\n",
      "0             163.54375\n"
     ]
    }
   ],
   "source": [
    "query = \"\"\"\n",
    "WITH user_reviews AS (\n",
    "    SELECT\n",
    "        rt.username,\n",
    "        COUNT(rvw.review_id) AS num_reviews\n",
    "    FROM\n",
    "        reviews rvw\n",
    "    JOIN\n",
    "        ratings rt ON rvw.book_id = rt.book_id\n",
    "    GROUP BY\n",
    "        rt.username\n",
    "    HAVING\n",
    "        COUNT(rt.book_id) > 50\n",
    ")\n",
    "SELECT\n",
    "    AVG(num_reviews) AS avg_reviews_per_user\n",
    "FROM\n",
    "    user_reviews\n",
    "\"\"\"\n",
    "reviews_with_ratings_df2 = pd.io.sql.read_sql(query, con=engine)\n",
    "print(reviews_with_ratings_df2)"
   ]
  },
  {
   "cell_type": "markdown",
   "id": "c60513bc",
   "metadata": {},
   "source": [
    "El número promedio de reseñas de texto entre los usuarios que calificaron más de 50 libros es de 163.54"
   ]
  },
  {
   "cell_type": "code",
   "execution_count": null,
   "id": "f18083ce",
   "metadata": {},
   "outputs": [],
   "source": []
  }
 ],
 "metadata": {
  "ExecuteTimeLog": [
   {
    "duration": 354,
    "start_time": "2024-09-12T22:08:41.781Z"
   },
   {
    "duration": 3,
    "start_time": "2024-09-12T22:11:13.378Z"
   },
   {
    "duration": 4,
    "start_time": "2024-09-12T22:11:28.835Z"
   },
   {
    "duration": 181,
    "start_time": "2024-09-12T22:12:00.208Z"
   },
   {
    "duration": 4,
    "start_time": "2024-09-12T22:12:05.914Z"
   },
   {
    "duration": 13,
    "start_time": "2024-09-12T22:12:07.467Z"
   },
   {
    "duration": 7,
    "start_time": "2024-09-12T22:13:39.961Z"
   },
   {
    "duration": 356,
    "start_time": "2024-09-13T13:47:34.061Z"
   },
   {
    "duration": 186,
    "start_time": "2024-09-13T13:47:34.874Z"
   },
   {
    "duration": 4,
    "start_time": "2024-09-13T13:47:36.878Z"
   },
   {
    "duration": 3,
    "start_time": "2024-09-13T13:47:44.496Z"
   },
   {
    "duration": 4,
    "start_time": "2024-09-13T13:52:21.249Z"
   },
   {
    "duration": 2,
    "start_time": "2024-09-13T14:21:32.815Z"
   },
   {
    "duration": 2,
    "start_time": "2024-09-13T14:21:41.875Z"
   },
   {
    "duration": 4,
    "start_time": "2024-09-13T14:21:49.866Z"
   },
   {
    "duration": 3057,
    "start_time": "2024-09-13T14:21:51.059Z"
   },
   {
    "duration": 2,
    "start_time": "2024-09-13T14:21:54.119Z"
   },
   {
    "duration": 3,
    "start_time": "2024-09-13T14:22:08.787Z"
   },
   {
    "duration": 5,
    "start_time": "2024-09-13T14:23:25.955Z"
   },
   {
    "duration": 1113,
    "start_time": "2024-09-13T14:23:42.361Z"
   },
   {
    "duration": 13,
    "start_time": "2024-09-13T14:24:47.123Z"
   },
   {
    "duration": 971,
    "start_time": "2024-09-13T14:27:35.916Z"
   },
   {
    "duration": 974,
    "start_time": "2024-09-13T14:27:45.990Z"
   },
   {
    "duration": 1160,
    "start_time": "2024-09-13T14:29:01.387Z"
   },
   {
    "duration": 975,
    "start_time": "2024-09-13T14:30:30.044Z"
   },
   {
    "duration": 972,
    "start_time": "2024-09-13T14:30:59.162Z"
   },
   {
    "duration": 834,
    "start_time": "2024-09-13T14:32:25.373Z"
   },
   {
    "duration": 1803,
    "start_time": "2024-09-13T14:33:18.320Z"
   },
   {
    "duration": 2210,
    "start_time": "2024-09-13T14:33:57.181Z"
   },
   {
    "duration": 4,
    "start_time": "2024-09-13T14:36:25.485Z"
   },
   {
    "duration": 1112,
    "start_time": "2024-09-13T14:39:07.692Z"
   },
   {
    "duration": 1273,
    "start_time": "2024-09-13T14:41:17.086Z"
   },
   {
    "duration": 832,
    "start_time": "2024-09-13T14:42:08.815Z"
   },
   {
    "duration": 832,
    "start_time": "2024-09-13T14:42:52.766Z"
   },
   {
    "duration": 6015,
    "start_time": "2024-09-13T14:50:57.377Z"
   },
   {
    "duration": 929,
    "start_time": "2024-09-13T14:52:41.859Z"
   },
   {
    "duration": 1118,
    "start_time": "2024-09-13T15:00:29.284Z"
   },
   {
    "duration": 3124,
    "start_time": "2024-09-13T15:01:36.598Z"
   },
   {
    "duration": 831,
    "start_time": "2024-09-13T15:02:41.066Z"
   },
   {
    "duration": 2781,
    "start_time": "2024-09-13T15:02:55.137Z"
   },
   {
    "duration": 981,
    "start_time": "2024-09-13T15:13:24.014Z"
   },
   {
    "duration": 925,
    "start_time": "2024-09-13T15:25:50.259Z"
   },
   {
    "duration": 834,
    "start_time": "2024-09-13T15:26:52.035Z"
   },
   {
    "duration": 926,
    "start_time": "2024-09-13T15:48:00.739Z"
   },
   {
    "duration": 925,
    "start_time": "2024-09-13T15:49:24.203Z"
   },
   {
    "duration": 837,
    "start_time": "2024-09-13T15:52:11.359Z"
   },
   {
    "duration": 836,
    "start_time": "2024-09-13T15:52:42.760Z"
   },
   {
    "duration": 927,
    "start_time": "2024-09-13T16:05:39.431Z"
   },
   {
    "duration": 925,
    "start_time": "2024-09-13T16:08:59.891Z"
   },
   {
    "duration": 841,
    "start_time": "2024-09-13T16:09:23.501Z"
   },
   {
    "duration": 840,
    "start_time": "2024-09-13T16:10:40.007Z"
   }
  ],
  "kernelspec": {
   "display_name": "Python 3 (ipykernel)",
   "language": "python",
   "name": "python3"
  },
  "language_info": {
   "codemirror_mode": {
    "name": "ipython",
    "version": 3
   },
   "file_extension": ".py",
   "mimetype": "text/x-python",
   "name": "python",
   "nbconvert_exporter": "python",
   "pygments_lexer": "ipython3",
   "version": "3.9.19"
  },
  "toc": {
   "base_numbering": 1,
   "nav_menu": {},
   "number_sections": true,
   "sideBar": true,
   "skip_h1_title": true,
   "title_cell": "Table of Contents",
   "title_sidebar": "Contents",
   "toc_cell": false,
   "toc_position": {},
   "toc_section_display": true,
   "toc_window_display": false
  }
 },
 "nbformat": 4,
 "nbformat_minor": 5
}
